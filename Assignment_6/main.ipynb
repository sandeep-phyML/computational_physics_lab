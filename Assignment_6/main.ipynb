{
 "cells": [
  {
   "cell_type": "code",
   "execution_count": 2,
   "id": "6e1b2ff4-5b56-4923-b201-3b8b6e394576",
   "metadata": {},
   "outputs": [],
   "source": [
    "import os\n",
    "import numpy as np"
   ]
  },
  {
   "cell_type": "markdown",
   "id": "d349b8a1-79a3-4b8d-be33-1695d198b841",
   "metadata": {},
   "source": [
    "## Question-1 "
   ]
  },
  {
   "cell_type": "code",
   "execution_count": 6,
   "id": "b60a1c5b-9a50-4ad3-bcdd-f905d344ffd6",
   "metadata": {},
   "outputs": [],
   "source": [
    "def f1(x):\n",
    "    return np.log(x/2.0) - np.sin(5.0*x/2.0)"
   ]
  },
  {
   "cell_type": "code",
   "execution_count": 11,
   "id": "ab3536bb-bb30-4a54-af46-85d55c661988",
   "metadata": {},
   "outputs": [
    {
     "name": "stdout",
     "output_type": "stream",
     "text": [
      "the approximate solution of the function is for bisection method 2.623140335083008\n"
     ]
    }
   ],
   "source": [
    "a = 1.5\n",
    "b = 3.0\n",
    "is_stop = False \n",
    "epsilon = 1e-6\n",
    "# bisection method\n",
    "if f1(a)*f1(b) < 0:\n",
    "    while not is_stop:\n",
    "        if abs(b-a) < epsilon:\n",
    "            if abs(f1(a)) < abs(f1(b)):\n",
    "                print(f\"the approximate solution of the function is for bisection method {a}\")\n",
    "                is_stop = True \n",
    "            else :\n",
    "                print(f\"the approximate solution of the function is for bisection method {b}\")\n",
    "                is_stop = True \n",
    "        c = (a + b ) / 2.0\n",
    "        f1_c = f1(c)\n",
    "        f1_b = f1(b)\n",
    "        f1_a = f1(a)\n",
    "        if f1_a * f1_c < 0.0:\n",
    "            b = c \n",
    "        elif f1_b * f1_c < 0.0:\n",
    "            a = c \n",
    "        \n",
    "    \n",
    "    "
   ]
  },
  {
   "cell_type": "code",
   "execution_count": 13,
   "id": "669d6a1f-1d09-4a4b-9375-f6ea87149f4c",
   "metadata": {},
   "outputs": [
    {
     "name": "stdout",
     "output_type": "stream",
     "text": [
      "the approximate solution of the function is for reguli falsi method 2.6231403354363083\n",
      "2.7755575615628914e-16\n"
     ]
    }
   ],
   "source": [
    "a = 1.5\n",
    "b = 3.0\n",
    "is_stop = False \n",
    "epsilon = 1e-6\n",
    "# reguli Falsi method\n",
    "c = b \n",
    "if f1(a)*f1(b) < 0:\n",
    "    while not is_stop:\n",
    "        if abs(b-a) < epsilon:\n",
    "            print(f\"the approximate solution of the function is for reguli falsi method {c}\")\n",
    "            is_stop = True \n",
    "        c = b - ((b-a)*f1(b))/(f1(b)-f1(a))\n",
    "        f1_c = f1(c)\n",
    "        f1_b = f1(b)\n",
    "        f1_a = f1(a)\n",
    "        if f1_a * f1_c < 0.0:\n",
    "            b = c \n",
    "        elif f1_b * f1_c < 0.0:\n",
    "            a = c \n",
    "            \n",
    "print(f1(c))     \n",
    "    "
   ]
  },
  {
   "cell_type": "markdown",
   "id": "4f84132e-e258-433b-94e5-eab2c2f624f9",
   "metadata": {},
   "source": [
    "## Question -2 "
   ]
  },
  {
   "cell_type": "code",
   "execution_count": 17,
   "id": "0d63503c-2dcd-4d5f-a587-1c72379ea390",
   "metadata": {},
   "outputs": [],
   "source": [
    "def f2(x):\n",
    "    return -x - np.cos(x)"
   ]
  },
  {
   "cell_type": "code",
   "execution_count": 18,
   "id": "f140aefb-0a56-4a9f-86df-defd907652d6",
   "metadata": {},
   "outputs": [],
   "source": []
  },
  {
   "cell_type": "code",
   "execution_count": 23,
   "id": "9f5ec810-a91c-4ebd-9582-efffe8621740",
   "metadata": {},
   "outputs": [
    {
     "name": "stdout",
     "output_type": "stream",
     "text": [
      " we are done , the interval is [-1.1874849202000002,4]\n",
      " f(a) is 0.8134913038547624 , f(b) is -3.346356379136388 and the product is -2.722231814026362\n"
     ]
    }
   ],
   "source": [
    "a , b = 2 ,4 \n",
    "beta = 0.1\n",
    "is_done = False \n",
    "while not is_done:\n",
    "    if f2(a)*f2(b) < 0.0:\n",
    "        print(f\" we are done , the interval is [{a},{b}]\")\n",
    "        print(f\" f(a) is {f2(a)} , f(b) is {f2(b)} and the product is {f2(a)*f2(b)}\")\n",
    "        is_done = True \n",
    "    else :\n",
    "        if abs(f2(a)) > abs(f2(b)):\n",
    "            b = b + beta * (b-a)\n",
    "        elif abs(f2(a)) < abs(f2(b)):\n",
    "            a = a - beta * (b-a)"
   ]
  },
  {
   "cell_type": "code",
   "execution_count": 22,
   "id": "c23c6814-65a4-4b80-a1c9-487a1bfa6b3a",
   "metadata": {},
   "outputs": [
    {
     "data": {
      "text/plain": [
       "[<matplotlib.lines.Line2D at 0x114d9bdd0>]"
      ]
     },
     "execution_count": 22,
     "metadata": {},
     "output_type": "execute_result"
    },
    {
     "data": {
      "image/png": "[encoded data removed]",
      "text/plain": [
       "<Figure size 640x480 with 1 Axes>"
      ]
     },
     "metadata": {},
     "output_type": "display_data"
    }
   ],
   "source": [
    "x_array = np.linspace(-2.75,4,100)\n",
    "y_array = [f2(x) for x in x_array]\n",
    "import matplotlib.pyplot as plt\n",
    "plt.plot(x_array,y_array)"
   ]
  },
  {
   "cell_type": "code",
   "execution_count": null,
   "id": "6dc0890d-5b96-4a02-b859-5051f70d525b",
   "metadata": {},
   "outputs": [],
   "source": []
  }
 ],
 "metadata": {
  "kernelspec": {
   "display_name": "Python 3 (ipykernel)",
   "language": "python",
   "name": "python3"
  },
  "language_info": {
   "codemirror_mode": {
    "name": "ipython",
    "version": 3
   },
   "file_extension": ".py",
   "mimetype": "text/x-python",
   "name": "python",
   "nbconvert_exporter": "python",
   "pygments_lexer": "ipython3",
   "version": "3.11.11"
  }
 },
 "nbformat": 4,
 "nbformat_minor": 5
}
