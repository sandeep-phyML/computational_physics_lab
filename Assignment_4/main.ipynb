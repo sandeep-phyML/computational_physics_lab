{
 "cells": [
  {
   "cell_type": "code",
   "execution_count": 1,
   "id": "6b4205cf-6c8c-4230-be63-1c74e8ccd6a9",
   "metadata": {},
   "outputs": [],
   "source": [
    "import os\n",
    "import sys\n",
    "import numpy as np\n",
    "sys.path.append(\"..\")\n",
    "from utils import *\n"
   ]
  },
  {
   "cell_type": "code",
   "execution_count": 3,
   "id": "ad219542-1bb6-46d4-b66b-27b89fd0d94e",
   "metadata": {},
   "outputs": [],
   "source": [
    "# define a function which have the inputs , the matrix A and returns the L and L* , matrix .\n",
    "def Chol_decomp(A):\n",
    "    n = len(A)\n",
    "    L = [[0 for _ in range(n)] for _ in range(n)]\n",
    "    for row_index in range(n):\n",
    "        for col_index in range(row_index,n):\n",
    "            if row_index == col_index :\n",
    "                L[row_index][col_index] = np.sqrt(A[row_index][col_index] - sum([L[row_index][j]**2 for j in range(row_index)]))\n",
    "            else :\n",
    "                L[row_index][col_index] = (1/L[row_index][row_index] ) *(A[row_index][col_index] - sum(L[row_index][k]*L[k][col_index] for k in range(row_index)))\n",
    "                L[col_index][row_index] = L[row_index][col_index]\n",
    "    return L"
   ]
  },
  {
   "cell_type": "code",
   "execution_count": 11,
   "id": "175a3a5e-67e2-4c16-bd2e-5010e6589d20",
   "metadata": {},
   "outputs": [],
   "source": [
    "A = [[4,12 , -16],[12,37,-43],[-16,-43,98]]"
   ]
  },
  {
   "cell_type": "code",
   "execution_count": 5,
   "id": "0ec8e04a-bc8b-4847-97cc-df6dcfb770a2",
   "metadata": {},
   "outputs": [
    {
     "data": {
      "text/plain": [
       "[[2.0, 6.0, -8.0], [6.0, 1.0, 5.0], [-8.0, 5.0, 3.0]]"
      ]
     },
     "execution_count": 5,
     "metadata": {},
     "output_type": "execute_result"
    }
   ],
   "source": [
    "Chol_decomp(A)"
   ]
  },
  {
   "cell_type": "code",
   "execution_count": 6,
   "id": "c621605d-532b-453d-acc3-1271a3d4b4b8",
   "metadata": {},
   "outputs": [],
   "source": [
    "def Chol_decomp(A):\n",
    "    n = len(A)\n",
    "    L = [[0 for _ in range(n)] for _ in range(n)]\n",
    "    for row_index in range(n):\n",
    "        for col_index in range(row_index,n):\n",
    "            if row_index == col_index :\n",
    "                L[row_index][col_index] = np.sqrt(A[row_index][col_index] - sum([L[row_index][j]**2 for j in range(row_index)]))\n",
    "            else :\n",
    "                L[row_index][col_index] = (1/L[row_index][row_index] ) *(A[row_index][col_index] - sum(L[row_index][k]*L[k][col_index] for k in range(row_index)))\n",
    "                L[col_index][row_index] = L[row_index][col_index]\n",
    "    return L\n",
    "def forward_substitution(L,b):\n",
    "    # inputs are the cholesky decomposed L (L and L* together ) and the b array and returns y \n",
    "    n = len(b)\n",
    "    y = [0 for _ in range(n)]\n",
    "    for row_index in range(n):\n",
    "        y[row_index] =( b[row_index] - sum([L[row_index][s_]*y[s_] for s_ in range(0,row_index)]) ) / L[row_index][row_index]\n",
    "    return y\n",
    "def backward_substituion(L,y):\n",
    "    # inputs are the cholesky decomposed L (L and L* together ) and the y array and returns the solution x \n",
    "    n = len(y)\n",
    "    x = [0 for _ in range(n)]\n",
    "    for row_index in range(n):\n",
    "        #x_matrix[i] =( y_matrix[i] - sum([LU_matrix[i][s_]*x_matrix[s_] for s_ in range(0,i)]) ) \n",
    "        x[-row_index-1] =( y[-row_index-1] - sum([L[-row_index-1][s_]*x[s_] for s_ in range(-row_index,0)]) ) / L[-row_index-1][-row_index-1]\n",
    "    return x\n"
   ]
  },
  {
   "cell_type": "markdown",
   "id": "48302cf1-157a-439a-ad2f-867bc4b081d8",
   "metadata": {},
   "source": []
  },
  {
   "cell_type": "code",
   "execution_count": 22,
   "id": "c2cebd33-27b5-4d76-9502-8f125f74656b",
   "metadata": {},
   "outputs": [
    {
     "name": "stdout",
     "output_type": "stream",
     "text": [
      "[[2.0, 0.5, 0.5, 0.5], [0.5, 1.6583123951777, -0.7537783614444091, 0.45226701686664544], [0.5, -0.7537783614444091, 1.087114613009218, 0.08362420100070911], [0.5, 0.45226701686664544, 0.08362420100070911, 1.2403473458920844]]\n",
      "y --  [1.5, 1.3568010505999364, 1.1707388140099273, 1.2403473458920846]\n",
      "[-2.220446049250313e-16, 1.0000000000000002, 1.0000000000000002, 1.0000000000000002]\n"
     ]
    }
   ],
   "source": [
    "## Question-1 solution \n",
    "A = [[4,1,1,1],[1,3,-1,1],[1,-1,2,0],[1,1,0,2]]\n",
    "b = [3,3,1,3]\n",
    "L = Chol_decomp(A)\n",
    "print(L)\n",
    "y = forward_substitution(L,b)\n",
    "print(\"y -- \" ,y)\n",
    "x = backward_substituion(L,y)\n",
    "print(x)"
   ]
  },
  {
   "cell_type": "code",
   "execution_count": 9,
   "id": "30b907e8-bfb7-4a77-97ad-b66a957fad33",
   "metadata": {},
   "outputs": [
    {
     "data": {
      "text/plain": [
       "array([-1.11022302e-16,  1.00000000e+00,  1.00000000e+00,  1.00000000e+00])"
      ]
     },
     "execution_count": 9,
     "metadata": {},
     "output_type": "execute_result"
    }
   ],
   "source": [
    "np.linalg.solve(A,b)"
   ]
  },
  {
   "cell_type": "code",
   "execution_count": 20,
   "id": "e38071bf-4cd2-4fab-a31b-fce307b51b43",
   "metadata": {},
   "outputs": [],
   "source": [
    "def Jacobi_iterative(A,b,intial_guess,epsilon):\n",
    "    n = len(A)\n",
    "    iter_ = 0.0\n",
    "    while True:\n",
    "        new_x = [(1.0/A[i][i])*(b[i] - sum([A[i][j]*intial_guess[j] if i!=j else 0 for j in range(n)])) for i in range(n)]\n",
    "        distance = np.sqrt(sum([(new_x[i]-intial_guess[i])**2 for i in range(n)]))\n",
    "        if distance < epsilon:\n",
    "            print(iter_)\n",
    "            return new_x\n",
    "        else :\n",
    "            intial_guess = new_x\n",
    "            iter_ += 1.0\n",
    "        "
   ]
  },
  {
   "cell_type": "code",
   "execution_count": 21,
   "id": "2ff0d176-042b-4d97-a8f4-6ae83e8e3838",
   "metadata": {},
   "outputs": [
    {
     "name": "stdout",
     "output_type": "stream",
     "text": [
      "46.0\n"
     ]
    },
    {
     "data": {
      "text/plain": [
       "[-1.1920928955078125e-07,\n",
       " 0.9999997913837433,\n",
       " 1.0000000149011612,\n",
       " 0.9999997764825821]"
      ]
     },
     "execution_count": 21,
     "metadata": {},
     "output_type": "execute_result"
    }
   ],
   "source": [
    "Jacobi_iterative(A,b,[1.0,0.0,4.0,9.0],1e-6)"
   ]
  },
  {
   "cell_type": "code",
   "execution_count": null,
   "id": "41d8e6a0-e9dd-4d8a-b941-30656dc4d291",
   "metadata": {},
   "outputs": [],
   "source": []
  }
 ],
 "metadata": {
  "kernelspec": {
   "display_name": "Python 3 (ipykernel)",
   "language": "python",
   "name": "python3"
  },
  "language_info": {
   "codemirror_mode": {
    "name": "ipython",
    "version": 3
   },
   "file_extension": ".py",
   "mimetype": "text/x-python",
   "name": "python",
   "nbconvert_exporter": "python",
   "pygments_lexer": "ipython3",
   "version": "3.11.11"
  }
 },
 "nbformat": 4,
 "nbformat_minor": 5
}
