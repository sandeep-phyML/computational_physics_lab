{
 "cells": [
  {
   "cell_type": "code",
   "execution_count": 1,
   "id": "d4e0bb69-8fa1-46a6-bb15-ecc2cf87a1f0",
   "metadata": {},
   "outputs": [],
   "source": [
    "import os \n",
    "import sys \n",
    "sys.path.append(os.path.abspath(\"..\"))\n",
    "from utils import *"
   ]
  },
  {
   "cell_type": "markdown",
   "id": "dee8c4a1-d365-4b18-9075-8555cba17237",
   "metadata": {},
   "source": [
    "## Question -1 "
   ]
  },
  {
   "cell_type": "code",
   "execution_count": 13,
   "id": "3124d8ba-86ff-4f08-8a48-2721b0aea126",
   "metadata": {},
   "outputs": [],
   "source": [
    "matrix_A = read_matrix(\"matrxi_x1.txt\")\n",
    "matrix_B = read_matrix(\"matrix_1B.txt\")"
   ]
  },
  {
   "cell_type": "code",
   "execution_count": 2,
   "id": "37a2cee7-d997-4043-a00e-22f45b157f66",
   "metadata": {},
   "outputs": [
    {
     "name": "stdout",
     "output_type": "stream",
     "text": [
      "1\n",
      "[[1.0, -0.3333333333333333, 0.6666666666666666, -0.6666666666666666], [0.0, 2.0, 5.0, 1.0], [1.0, -1.0, 3.0, 3.0]]\n",
      "[[1.0, -0.3333333333333333, 0.6666666666666666, -0.6666666666666666], [0.0, 2.0, 5.0, 1.0], [1.0, -1.0, 3.0, 3.0]]\n",
      "[[1.0, -0.3333333333333333, 0.6666666666666666, -0.6666666666666666], [0.0, 2.0, 5.0, 1.0], [0.0, -0.6666666666666667, 2.3333333333333335, 3.6666666666666665]]\n",
      "[[1.0, -0.3333333333333333, 0.6666666666666666, -0.6666666666666666], [0.0, 1.0, 2.5, 0.5], [0.0, -0.6666666666666667, 2.3333333333333335, 3.6666666666666665]]\n",
      "[[1.0, 0.0, 1.5, -0.5], [0.0, 1.0, 2.5, 0.5], [0.0, -0.6666666666666667, 2.3333333333333335, 3.6666666666666665]]\n",
      "[[1.0, 0.0, 1.5, -0.5], [0.0, 1.0, 2.5, 0.5], [0.0, 0.0, 4.0, 4.0]]\n",
      "[[1.0, 0.0, 1.5, -0.5], [0.0, 1.0, 2.5, 0.5], [0.0, 0.0, 1.0, 1.0]]\n",
      "[[1.0, 0.0, 0.0, -2.0], [0.0, 1.0, 2.5, 0.5], [0.0, 0.0, 1.0, 1.0]]\n",
      "[[1.0, 0.0, 0.0, -2.0], [0.0, 1.0, 0.0, -2.0], [0.0, 0.0, 1.0, 1.0]]\n",
      "[[1.0, 0.0, 0.0, -2.0], [0.0, 1.0, 0.0, -2.0], [0.0, 0.0, 1.0, 1.0]]\n"
     ]
    }
   ],
   "source": [
    "matrix_A = read_matrix(\"matrxi_x1.txt\")\n",
    "matrix_B = read_matrix(\"matrix_1B.txt\")\n",
    "aug_matrix = []\n",
    "for index ,item in enumerate(matrix_B):\n",
    "    aug_matrix.append(matrix_A[index]+[item])\n",
    "max_value_index = 0\n",
    "for i in range(len(aug_matrix)-1):\n",
    "    if aug_matrix[i+1][0] >  aug_matrix[i][0]:\n",
    "        max_value_index = i + 1 \n",
    "    else :\n",
    "        pass \n",
    "print(max_value_index)\n",
    "if max_value_index != 0:\n",
    "    update_row = aug_matrix[0]\n",
    "    aug_matrix[0] = aug_matrix[max_value_index]\n",
    "    aug_matrix[max_value_index] = update_row\n",
    "for i in range(len(aug_matrix)):\n",
    "    if aug_matrix[i][i] != 1 :\n",
    "        aug_matrix[i] = [item/aug_matrix[i][i] for item in aug_matrix[i]]\n",
    "    print(aug_matrix)\n",
    "    for k in range(len(aug_matrix)):\n",
    "        if k == i :\n",
    "            continue \n",
    "        else :\n",
    "            if aug_matrix[k][i] != 0:\n",
    "                aug_matrix[k] = [aug_matrix[k][col_index] - aug_matrix[k][i] * aug_matrix[i][col_index] for col_index in range(len(aug_matrix[k]))]\n",
    "            print(aug_matrix)\n",
    "print(aug_matrix) # move this set of command inside the utils library\n",
    "# check small-ness for each pivot "
   ]
  },
  {
   "cell_type": "code",
   "execution_count": null,
   "id": "34f59e19-e82b-402a-ba3a-77e85a273fa6",
   "metadata": {},
   "outputs": [],
   "source": []
  },
  {
   "cell_type": "code",
   "execution_count": 3,
   "id": "aee6b1c0-3d69-423f-b613-63b9e74d5d3f",
   "metadata": {},
   "outputs": [],
   "source": [
    "matrix_A = read_matrix(\"matrxi_x1.txt\")\n",
    "matrix_B = read_matrix(\"matrix_1B.txt\")\n",
    "X = gauss_jordan(matrix_A,matrix_B)"
   ]
  },
  {
   "cell_type": "code",
   "execution_count": 4,
   "id": "b2833492-cc4e-4e78-a4b5-e3905e85021a",
   "metadata": {},
   "outputs": [
    {
     "data": {
      "text/plain": [
       "[-2.0, -2.0, 1.0]"
      ]
     },
     "execution_count": 4,
     "metadata": {},
     "output_type": "execute_result"
    }
   ],
   "source": [
    "X"
   ]
  },
  {
   "cell_type": "markdown",
   "id": "6b80f5c0-9b8f-4f19-b61a-16b1bbed7593",
   "metadata": {},
   "source": [
    "## Question -2 \n"
   ]
  },
  {
   "cell_type": "code",
   "execution_count": 6,
   "id": "5a73a7b8-7c1d-4a10-93cc-ff4a359ba424",
   "metadata": {},
   "outputs": [],
   "source": [
    "matrix_2A = read_matrix(\"matrix_2A.txt\")\n",
    "matrix_2B =  read_matrix(\"matrix_2B.txt\")\n",
    "X_ = gauss_jordan(matrix_2A,matrix_2B)"
   ]
  },
  {
   "cell_type": "code",
   "execution_count": 7,
   "id": "61c59dea-49de-4604-aa84-8f6591769c6b",
   "metadata": {},
   "outputs": [
    {
     "data": {
      "text/plain": [
       "[-1.76181704399786,\n",
       " 0.8962280338740123,\n",
       " 4.051931404116157,\n",
       " -1.6171308025395417,\n",
       " 2.041913538501913,\n",
       " 0.15183248715593547]"
      ]
     },
     "execution_count": 7,
     "metadata": {},
     "output_type": "execute_result"
    }
   ],
   "source": [
    "X_"
   ]
  },
  {
   "cell_type": "code",
   "execution_count": 9,
   "id": "283f2c24-395d-457e-8617-2a3359847e11",
   "metadata": {},
   "outputs": [
    {
     "data": {
      "text/plain": [
       "array([-1.76181704,  0.89622803,  4.0519314 , -1.6171308 ,  2.04191354,\n",
       "        0.15183249])"
      ]
     },
     "execution_count": 9,
     "metadata": {},
     "output_type": "execute_result"
    }
   ],
   "source": [
    "import numpy as np\n",
    "np.linalg.solve(matrix_2A, matrix_2B)"
   ]
  },
  {
   "cell_type": "code",
   "execution_count": null,
   "id": "4a63a686-db27-45a0-be93-e5b59cac4334",
   "metadata": {},
   "outputs": [],
   "source": []
  }
 ],
 "metadata": {
  "kernelspec": {
   "display_name": "Python 3 (ipykernel)",
   "language": "python",
   "name": "python3"
  },
  "language_info": {
   "codemirror_mode": {
    "name": "ipython",
    "version": 3
   },
   "file_extension": ".py",
   "mimetype": "text/x-python",
   "name": "python",
   "nbconvert_exporter": "python",
   "pygments_lexer": "ipython3",
   "version": "3.11.11"
  }
 },
 "nbformat": 4,
 "nbformat_minor": 5
}
