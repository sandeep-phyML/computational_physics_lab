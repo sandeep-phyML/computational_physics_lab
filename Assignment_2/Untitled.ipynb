{
 "cells": [
  {
   "cell_type": "code",
   "execution_count": 1,
   "id": "91aa7759-b236-410b-9df6-f074b49fa02f",
   "metadata": {},
   "outputs": [
    {
     "ename": "TypeError",
     "evalue": "laxmanlibrary.lcg() takes 2 positional arguments but 3 were given",
     "output_type": "error",
     "traceback": [
      "\u001b[0;31m---------------------------------------------------------------------------\u001b[0m",
      "\u001b[0;31mTypeError\u001b[0m                                 Traceback (most recent call last)",
      "Cell \u001b[0;32mIn[1], line 26\u001b[0m\n\u001b[1;32m     24\u001b[0m pi_l \u001b[38;5;241m=\u001b[39m[]\n\u001b[1;32m     25\u001b[0m \u001b[38;5;28;01mfor\u001b[39;00m i \u001b[38;5;129;01min\u001b[39;00m N:\n\u001b[0;32m---> 26\u001b[0m     list1 \u001b[38;5;241m=\u001b[39m \u001b[43mz\u001b[49m\u001b[38;5;241;43m.\u001b[39;49m\u001b[43mlcg\u001b[49m\u001b[43m(\u001b[49m\u001b[38;5;241;43m0.8\u001b[39;49m\u001b[43m,\u001b[49m\u001b[43mi\u001b[49m\u001b[43m)\u001b[49m\n\u001b[1;32m     27\u001b[0m     list2 \u001b[38;5;241m=\u001b[39m z\u001b[38;5;241m.\u001b[39mlcg(\u001b[38;5;241m0.1\u001b[39m, i)\n\u001b[1;32m     28\u001b[0m     inside_qc_x \u001b[38;5;241m=\u001b[39m []\n",
      "\u001b[0;31mTypeError\u001b[0m: laxmanlibrary.lcg() takes 2 positional arguments but 3 were given"
     ]
    }
   ],
   "source": [
    "class laxmanlibrary:\n",
    "    # matrices multiplication and vector dot product\n",
    "    def read_matrix(self,filename):\n",
    "  with open(filename,'r') as file:\n",
    "    matrix = []\n",
    "    for line in file:\n",
    "    # Split the line into numbers and convert to int/float\n",
    "      row =[float(num)for num in line.strip().split()]\n",
    "      matrix.append(row)\n",
    "    return matrix\n",
    "        \n",
    "    def lcg(self,seed):\n",
    "    a = 1103515245 \n",
    "    c = 12345\n",
    "    m = 32768\n",
    "    list =[seed]\n",
    "    for _ in range(9999):\n",
    "      seed = (a*seed +c)%m\n",
    "      list.append(seed)\n",
    "    return list\n",
    "\n",
    "z = laxmanlibrary()\n",
    "N =[20,1000,10000,15000,20000]\n",
    "pi_l =[]\n",
    "for i in N:\n",
    "    list1 = z.lcg(0.8,i)\n",
    "    list2 = z.lcg(0.1, i)\n",
    "    inside_qc_x = []\n",
    "    inside_qc_y = []\n",
    "    inside_sq_x = []\n",
    "    inside_sq_y = []\n",
    "    n_inside_circle = 0\n",
    "    n_inside_square = 0\n",
    "\n",
    "    for x,y in zip(list1,list2):\n",
    "        if x * y <= 1:\n",
    "            inside_sq_x.append(x)\n",
    "            inside_sq_y.append(y)\n",
    "            if x**2 + y**2 <= 1:\n",
    "                inside_qc_x.append(x)\n",
    "                inside_qc_y.append(y)\n",
    "                n_inside_circle+=1\n",
    "        else:\n",
    "            pass\n",
    "\n",
    "    pi = (4*n_inside_circle)/i\n",
    "    pi_l.append(pi)\n",
    "\n",
    "print(pi_l)\n",
    "plt.hist(pi_l,bins=40)\n",
    "plt.show()"
   ]
  },
  {
   "cell_type": "code",
   "execution_count": null,
   "id": "7a818aef-34bd-45c7-9e8b-53383bba77bf",
   "metadata": {},
   "outputs": [],
   "source": []
  }
 ],
 "metadata": {
  "kernelspec": {
   "display_name": "Python 3 (ipykernel)",
   "language": "python",
   "name": "python3"
  },
  "language_info": {
   "codemirror_mode": {
    "name": "ipython",
    "version": 3
   },
   "file_extension": ".py",
   "mimetype": "text/x-python",
   "name": "python",
   "nbconvert_exporter": "python",
   "pygments_lexer": "ipython3",
   "version": "3.11.11"
  }
 },
 "nbformat": 4,
 "nbformat_minor": 5
}
