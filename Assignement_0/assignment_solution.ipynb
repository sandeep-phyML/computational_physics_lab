{
 "cells": [
  {
   "cell_type": "code",
   "execution_count": 2,
   "id": "2beab6f7-1769-4173-aad5-d44480e7f5ad",
   "metadata": {},
   "outputs": [],
   "source": [
    "import os\n",
    "import sys\n",
    "import numpy as np\n",
    "sys.path.append(os.path.abspath(\"..\"))\n",
    "from utils import *"
   ]
  },
  {
   "cell_type": "markdown",
   "id": "bc548906-d379-428b-b617-4efd883c385a",
   "metadata": {},
   "source": [
    "# Question - 1 "
   ]
  },
  {
   "cell_type": "code",
   "execution_count": 9,
   "id": "6eed2b83-f071-48fb-b575-1846305d3719",
   "metadata": {},
   "outputs": [
    {
     "name": "stdout",
     "output_type": "stream",
     "text": [
      "[1, 3, 5, 7, 9, 11, 13, 15, 17, 19, 21, 23, 25, 27, 29, 31, 33, 35, 37, 39] ,  number of odd numbers :   20\n"
     ]
    }
   ],
   "source": [
    "# Question1 (a) \n",
    "list_of_first_20_odd  = []\n",
    "for i in range(100):\n",
    "    if len(list_of_first_20_odd) >= 20:\n",
    "        break\n",
    "    if i % 2 != 0:\n",
    "       list_of_first_20_odd.append(i)\n",
    "print(list_of_first_20_odd , \",  number of odd numbers :  \" , len(list_of_first_20_odd))"
   ]
  },
  {
   "cell_type": "code",
   "execution_count": 8,
   "id": "367217e1-abd6-42d1-ae2b-2c87c34a3bda",
   "metadata": {},
   "outputs": [
    {
     "name": "stdout",
     "output_type": "stream",
     "text": [
      "Sum of first 20 odd number is 400\n"
     ]
    }
   ],
   "source": [
    "# add the numbers \n",
    "sum_of_numbers = 0\n",
    "for item in list_of_first_20_odd:\n",
    "    sum_of_numbers += item\n",
    "print(f\"Sum of first 20 odd number is {sum_of_numbers}\")"
   ]
  },
  {
   "cell_type": "code",
   "execution_count": 13,
   "id": "5aefcfbb-7c27-47cb-a536-dee23d91205d",
   "metadata": {},
   "outputs": [
    {
     "name": "stdout",
     "output_type": "stream",
     "text": [
      "factorial of number 8 is 40320\n"
     ]
    }
   ],
   "source": [
    "# Question 1(b) \n",
    "factorial_ = 1\n",
    "for i in range(8):\n",
    "    # print(i+1)\n",
    "    factorial_ *= (i+1)\n",
    "print(f\"factorial of number 8 is {factorial_}\")"
   ]
  },
  {
   "cell_type": "markdown",
   "id": "afa57a6a-fc17-4090-98bb-e1bfbf719f66",
   "metadata": {},
   "source": [
    "# Question - 2 "
   ]
  },
  {
   "cell_type": "code",
   "execution_count": 16,
   "id": "94a1a664-7dd4-4841-b09c-423e15d8e9c0",
   "metadata": {},
   "outputs": [
    {
     "name": "stdout",
     "output_type": "stream",
     "text": [
      "First 15 HP series  [0.8, 0.36363636363636365, 0.23529411764705882, 0.17391304347826086, 0.13793103448275862, 0.11428571428571428, 0.0975609756097561, 0.0851063829787234, 0.07547169811320754, 0.06779661016949153, 0.06153846153846154, 0.056338028169014086, 0.05194805194805195, 0.04819277108433735, 0.0449438202247191]\n",
      "First 15 GP series  [1.25, 0.625, 0.3125, 0.15625, 0.078125, 0.0390625, 0.01953125, 0.009765625, 0.0048828125, 0.00244140625, 0.001220703125, 0.0006103515625, 0.00030517578125, 0.000152587890625, 7.62939453125e-05]\n"
     ]
    }
   ],
   "source": [
    "hp_list_15 = []\n",
    "gp_list_15 = []\n",
    "t_0 = 1.25\n",
    "common_ratio = 0.5\n",
    "common_difference = 1.5\n",
    "'''\n",
    "HP Series : 1/(t_0) , 1/(t_0+r) , 1/(t_0 + 2r) , 1/(t_0 + 3r ) , ....\n",
    "GP Series : t_0 , t_0 * r , t_0 * r^2 , t_0 * r^3 .............\n",
    "'''\n",
    "for i in range(15):\n",
    "    hp_element = 1.0/(t_0 + i * common_difference)\n",
    "    gp_element = t_0 * common_ratio ** i\n",
    "    hp_list_15.append(hp_element)\n",
    "    gp_list_15.append(gp_element)\n",
    "print(\"First 15 HP series \" , hp_list_15)\n",
    "print(\"First 15 GP series \" , gp_list_15)\n"
   ]
  },
  {
   "cell_type": "code",
   "execution_count": 17,
   "id": "002a69a1-9254-475c-8bb7-ffd8d112f12c",
   "metadata": {},
   "outputs": [
    {
     "name": "stdout",
     "output_type": "stream",
     "text": [
      "Sum of first 15 GP elements 18.75\n",
      "Sum of first 15 HP elements 12.000000000000002\n"
     ]
    }
   ],
   "source": [
    "sum_of_hp = 0\n",
    "sum_of_gp = 0\n",
    "for i in range(len(hp_list_15)):\n",
    "    sum_of_hp += hp_list_15[0]\n",
    "    sum_of_gp += gp_list_15[0]\n",
    "print(f\"Sum of first 15 GP elements {sum_of_gp}\")\n",
    "print(f\"Sum of first 15 HP elements {sum_of_hp}\")"
   ]
  },
  {
   "cell_type": "markdown",
   "id": "cb499c19-ad9c-4bfe-b8f5-6d55378e2aeb",
   "metadata": {},
   "source": [
    "# Question - 3 "
   ]
  },
  {
   "cell_type": "code",
   "execution_count": 18,
   "id": "cba90f9b-92ff-43c0-91b5-f953a387d263",
   "metadata": {},
   "outputs": [
    {
     "data": {
      "text/plain": [
       "['assignment_solution.ipynb',\n",
       " 'asgn0_matB',\n",
       " 'asgn0_vecC',\n",
       " 'asgn0_vecD',\n",
       " '__pycache__',\n",
       " 'utils.py',\n",
       " 'assignement_question.pdf',\n",
       " 'asgn0_matA',\n",
       " '.ipynb_checkpoints']"
      ]
     },
     "execution_count": 18,
     "metadata": {},
     "output_type": "execute_result"
    }
   ],
   "source": [
    "[file for file in os.listdir(\".\")]"
   ]
  },
  {
   "cell_type": "code",
   "execution_count": 3,
   "id": "207b482a-5f64-43f0-a00b-f54c57588003",
   "metadata": {},
   "outputs": [
    {
     "name": "stdout",
     "output_type": "stream",
     "text": [
      "Matrix A  [[2.0, -3.0, 1.4], [2.5, 1.0, -2.0], [-0.8, 0.0, 3.1]]\n",
      "Matrix B  [[0.0, -1.0, 1.0], [1.5, 0.5, -2.0], [3.0, 0.0, -2.0]]\n",
      "Matrix C  [[-2.0], [0.5], [1.5]]\n",
      "Matrix D  [[1.0], [0.0], [-1.0]]\n"
     ]
    }
   ],
   "source": [
    "matrix_A = read_matrix(\"asgn0_matA\")\n",
    "matrix_B = read_matrix('asgn0_matB')\n",
    "matrix_C = read_matrix('asgn0_vecC')\n",
    "matrix_D = read_matrix('asgn0_vecD')\n",
    "print(\"Matrix A \", matrix_A)\n",
    "print(\"Matrix B \", matrix_B)\n",
    "print(\"Matrix C \", matrix_C)\n",
    "print(\"Matrix D \", matrix_D)"
   ]
  },
  {
   "cell_type": "code",
   "execution_count": 25,
   "id": "d5bf1779-8c83-4268-b7e6-68049f8e5a37",
   "metadata": {},
   "outputs": [
    {
     "name": "stdout",
     "output_type": "stream",
     "text": [
      "Product of matrix A.B is [[-0.3000000000000007, -3.5, 5.2], [-4.5, -2.0, 4.5], [9.3, 0.8, -7.0]]\n"
     ]
    }
   ],
   "source": [
    "# AB \n",
    "A_B_prod = []\n",
    "for row_A in matrix_A:\n",
    "    A_B_prod_row = []\n",
    "    for column_index_B in range(len(matrix_B[0])):\n",
    "        A_B_prod_row_element = 0.0\n",
    "        for row_index_B in range(len(matrix_A[0])):\n",
    "            column_index_A = row_index_B\n",
    "            A_B_prod_row_element += row_A[column_index_A]*matrix_B[row_index_B][column_index_B]\n",
    "        A_B_prod_row.append(A_B_prod_row_element)\n",
    "    A_B_prod.append(A_B_prod_row)\n",
    "print(f\"The Matrix product  AB is {A_B_prod}\")"
   ]
  },
  {
   "cell_type": "code",
   "execution_count": 26,
   "id": "01daf1e6-66e9-49af-898e-14e17fe1ddb4",
   "metadata": {},
   "outputs": [
    {
     "name": "stdout",
     "output_type": "stream",
     "text": [
      "Dot product D.C is -3.5\n"
     ]
    }
   ],
   "source": [
    "# D.C \n",
    "D_C_product = 0.0\n",
    "for i in range(len(matrix_C)):\n",
    "    D_C_product += matrix_C[i][0] * matrix_D[i][0]\n",
    "print(f\"Dot product D.C is {D_C_product}\")"
   ]
  },
  {
   "cell_type": "code",
   "execution_count": 27,
   "id": "b4518e95-3c0b-44f5-8944-92bff7a753fa",
   "metadata": {},
   "outputs": [
    {
     "name": "stdout",
     "output_type": "stream",
     "text": [
      "The matrix product BC is [[1.0], [-5.75], [-9.0]]\n"
     ]
    }
   ],
   "source": [
    "# BC \n",
    "B_C_prod = []\n",
    "for row_B in matrix_B:\n",
    "    B_C_prod_row = []\n",
    "    for column_index_C in range(len(matrix_C[0])):\n",
    "        B_C_prod_row_element = 0.0\n",
    "        for row_index_C in range(len(matrix_B[0])):\n",
    "            column_index_B = row_index_C\n",
    "            B_C_prod_row_element += row_B[column_index_B]*matrix_C[row_index_C][column_index_C]\n",
    "        B_C_prod_row.append(B_C_prod_row_element)\n",
    "    B_C_prod.append(B_C_prod_row)\n",
    "print(f\"The matrix product BC is {B_C_prod}\")"
   ]
  },
  {
   "cell_type": "code",
   "execution_count": null,
   "id": "b0c0fd0f-4fbf-4a47-9c47-b2dce49d1ed4",
   "metadata": {},
   "outputs": [],
   "source": []
  },
  {
   "cell_type": "code",
   "execution_count": null,
   "id": "d4cbe451-c6d3-4f25-ae20-1c6e4315cb14",
   "metadata": {},
   "outputs": [],
   "source": []
  },
  {
   "cell_type": "code",
   "execution_count": null,
   "id": "ad6b4273-db01-4dac-ba50-e0f0206fd368",
   "metadata": {},
   "outputs": [],
   "source": []
  },
  {
   "cell_type": "code",
   "execution_count": null,
   "id": "dbe4a843-aebd-494b-9b17-1096ad2c0675",
   "metadata": {},
   "outputs": [],
   "source": []
  },
  {
   "cell_type": "code",
   "execution_count": null,
   "id": "108d9f92-e8c3-45c5-b103-11f315d2b6d8",
   "metadata": {},
   "outputs": [],
   "source": []
  },
  {
   "cell_type": "code",
   "execution_count": null,
   "id": "f36f3a36-bbb8-47b8-98bf-a075cce11125",
   "metadata": {},
   "outputs": [],
   "source": []
  },
  {
   "cell_type": "code",
   "execution_count": null,
   "id": "25ebcecf-6fd5-4548-8fd2-5bd1673f7fd1",
   "metadata": {},
   "outputs": [],
   "source": []
  }
 ],
 "metadata": {
  "kernelspec": {
   "display_name": "Python 3 (ipykernel)",
   "language": "python",
   "name": "python3"
  },
  "language_info": {
   "codemirror_mode": {
    "name": "ipython",
    "version": 3
   },
   "file_extension": ".py",
   "mimetype": "text/x-python",
   "name": "python",
   "nbconvert_exporter": "python",
   "pygments_lexer": "ipython3",
   "version": "3.11.11"
  }
 },
 "nbformat": 4,
 "nbformat_minor": 5
}
