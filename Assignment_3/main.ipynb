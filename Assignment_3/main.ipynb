{
 "cells": [
  {
   "cell_type": "code",
   "execution_count": 2,
   "id": "b2decfab-62e3-4c22-808c-71969db01147",
   "metadata": {},
   "outputs": [],
   "source": [
    "import os \n",
    "import sys\n",
    "sys.path.append(os.path.abspath(\"..\"))\n",
    "from utils import *\n"
   ]
  },
  {
   "cell_type": "markdown",
   "id": "e347ebd7-0fcb-414c-b8c4-c2502afe935d",
   "metadata": {},
   "source": [
    "## Question -1 "
   ]
  },
  {
   "cell_type": "code",
   "execution_count": 2,
   "id": "3a738d96-6314-4079-8834-4c1e03cf7736",
   "metadata": {},
   "outputs": [],
   "source": [
    "A = read_matrix(\"matrix_A.txt\")"
   ]
  },
  {
   "cell_type": "code",
   "execution_count": 3,
   "id": "0496cad8-7bc3-461b-8055-3eaf8f47789b",
   "metadata": {},
   "outputs": [
    {
     "data": {
      "text/plain": [
       "[[1.0, 2.0, 4.0], [3.0, 8.0, 14.0], [2.0, 6.0, 13.0]]"
      ]
     },
     "execution_count": 3,
     "metadata": {},
     "output_type": "execute_result"
    }
   ],
   "source": [
    "A"
   ]
  },
  {
   "cell_type": "markdown",
   "id": "ed6e7719-7184-47f9-8392-fc4c9ace8158",
   "metadata": {},
   "source": [
    "## LU decomposition with Doolittle , l_ii = 1 "
   ]
  },
  {
   "cell_type": "code",
   "execution_count": 3,
   "id": "318c64a8-9b18-4753-a19e-664349cd2895",
   "metadata": {},
   "outputs": [
    {
     "name": "stdout",
     "output_type": "stream",
     "text": [
      "first row 1.0\n",
      "first row 2.0\n",
      "first row 4.0\n",
      " L matrix , computation with row index 1 and col index 0\n",
      "Updated matrix element is 3.0\n",
      " U matrix , computation with row index 1 and col index 1\n",
      "Updated matrix element is 2.0\n",
      " U matrix , computation with row index 1 and col index 2\n",
      "Updated matrix element is 2.0\n",
      " L matrix , computation with row index 2 and col index 0\n",
      "Updated matrix element is 2.0\n",
      " L matrix , computation with row index 2 and col index 1\n",
      "Updated matrix element is 1.0\n",
      " U matrix , computation with row index 2 and col index 2\n",
      "Updated matrix element is 3.0\n"
     ]
    }
   ],
   "source": [
    "# update the elements of matrix -A , [[u11 , u12 , u13],[l21 , u22 , u23] , [l31 , l32 , l33]]\n",
    "for row_index in range(len(A)):\n",
    "    for col_index in range(len(A)):\n",
    "        if row_index == 0:\n",
    "            print(\"first row\" ,A[row_index][col_index])\n",
    "        else :\n",
    "            if row_index > col_index :\n",
    "                print(f\" L matrix , computation with row index {  row_index} and col index { col_index}\")\n",
    "                A[row_index][col_index] = (A[row_index][col_index] - sum([A[row_index][s_]*A[s_][col_index] for s_ in range(col_index)]))/A[col_index][col_index]\n",
    "                print(f\"Updated matrix element is {A[row_index][col_index]}\")\n",
    "            else:\n",
    "                print(f\" U matrix , computation with row index {row_index} and col index {col_index}\")\n",
    "                A[row_index][col_index] = A[row_index][col_index] - sum([A[row_index][s_]*A[s_][col_index] for s_ in range(row_index)])\n",
    "                print(f\"Updated matrix element is {A[row_index][col_index]}\")\n",
    "                "
   ]
  },
  {
   "cell_type": "code",
   "execution_count": 5,
   "id": "5a81e814-b9fa-4d87-ab5c-a354faea969f",
   "metadata": {},
   "outputs": [
    {
     "name": "stdout",
     "output_type": "stream",
     "text": [
      "[[1.0, 2.0, 4.0], [3.0, 2.0, 2.0], [2.0, 1.0, 3.0]]\n"
     ]
    }
   ],
   "source": [
    "print(A)"
   ]
  },
  {
   "cell_type": "code",
   "execution_count": 42,
   "id": "99712cb1-1734-49f3-8fcb-d5b2f8a417ad",
   "metadata": {},
   "outputs": [],
   "source": [
    "L = [[A[i][j] if i > j else 1 if i==j else 0 for j in range(len(A)) ] for i in range(len(A)) ]\n",
    "U = [[A[i][j] if i <= j  else 0 for j in range(len(A)) ] for i in range(len(A)) ]"
   ]
  },
  {
   "cell_type": "code",
   "execution_count": 45,
   "id": "46625673-8220-414c-91f2-7381476811f7",
   "metadata": {},
   "outputs": [],
   "source": [
    "LU = [row.copy() for row in L]\n",
    "for row_index in range(len(LU)):\n",
    "    for col_index in range(len(LU)):\n",
    "        LU[row_index][col_index] = sum([L[row_index][s_]*U[s_][col_index] for s_ in  range(len(LU))])"
   ]
  },
  {
   "cell_type": "code",
   "execution_count": 47,
   "id": "34b48b4a-15fc-4e5d-9734-6fb232ac4468",
   "metadata": {},
   "outputs": [],
   "source": [
    "# LU verified "
   ]
  },
  {
   "cell_type": "code",
   "execution_count": 7,
   "id": "a66929d3-5a6c-44d6-b1e2-0aef1cb7a522",
   "metadata": {},
   "outputs": [
    {
     "name": "stdout",
     "output_type": "stream",
     "text": [
      "first row 1.0\n",
      "first row 2.0\n",
      "first row 4.0\n",
      " L matrix , computation with row index 1 and col index 0\n",
      "Updated matrix element is 3.0\n",
      " U matrix , computation with row index 1 and col index 1\n",
      "Updated matrix element is 2.0\n",
      " U matrix , computation with row index 1 and col index 2\n",
      "Updated matrix element is 2.0\n",
      " L matrix , computation with row index 2 and col index 0\n",
      "Updated matrix element is 2.0\n",
      " L matrix , computation with row index 2 and col index 1\n",
      "Updated matrix element is 1.0\n",
      " U matrix , computation with row index 2 and col index 2\n",
      "Updated matrix element is 3.0\n"
     ]
    },
    {
     "data": {
      "text/plain": [
       "[[1.0, 2.0, 4.0], [3.0, 2.0, 2.0], [2.0, 1.0, 3.0]]"
      ]
     },
     "execution_count": 7,
     "metadata": {},
     "output_type": "execute_result"
    }
   ],
   "source": [
    "# using library \n",
    "mat_A = read_matrix(\"matrix_A.txt\")\n",
    "LU_decompose(mat_A)"
   ]
  },
  {
   "cell_type": "markdown",
   "id": "f47224c0-904c-4a33-8d93-7261196a8dfa",
   "metadata": {},
   "source": [
    "## Question - 2 "
   ]
  },
  {
   "cell_type": "code",
   "execution_count": 10,
   "id": "506ea56d-26ed-44e5-bd93-bee0093aeeac",
   "metadata": {},
   "outputs": [
    {
     "data": {
      "text/plain": [
       "['main.ipynb',\n",
       " 'matrix_A.txt',\n",
       " 'matrix_2A.txt',\n",
       " 'matrix_2B.txt',\n",
       " 'lu_decomposition_document.pdf',\n",
       " '.ipynb_checkpoints',\n",
       " 'assignment_3_question.pdf']"
      ]
     },
     "execution_count": 10,
     "metadata": {},
     "output_type": "execute_result"
    }
   ],
   "source": [
    "[file_name for file_name in os.listdir(\".\")]"
   ]
  },
  {
   "cell_type": "code",
   "execution_count": 36,
   "id": "9ca7de8f-14ec-464a-8a0c-f1ed324ec69b",
   "metadata": {},
   "outputs": [],
   "source": [
    "matrix_A = read_matrix('matrix_2A.txt')\n",
    "matrix_B = read_matrix('matrix_2B.txt')"
   ]
  },
  {
   "cell_type": "code",
   "execution_count": 37,
   "id": "7b838d98-e82b-4bd7-bc48-bf8fecaa4377",
   "metadata": {},
   "outputs": [
    {
     "data": {
      "text/plain": [
       "[[1.0, -1.0, 4.0, 0.0, 2.0, 9.0],\n",
       " [0.0, 5.0, -2.0, 7.0, 8.0, 4.0],\n",
       " [1.0, 0.0, 5.0, 7.0, 3.0, -2.0],\n",
       " [6.0, -1.0, 2.0, 3.0, 0.0, 8.0],\n",
       " [-4.0, 2.0, 0.0, 5.0, -5.0, 3.0],\n",
       " [0.0, 7.0, -1.0, 5.0, 4.0, -2.0]]"
      ]
     },
     "execution_count": 37,
     "metadata": {},
     "output_type": "execute_result"
    }
   ],
   "source": [
    "matrix_A"
   ]
  },
  {
   "cell_type": "code",
   "execution_count": 38,
   "id": "b029b074-37d1-4791-a7c8-36281f90fe2a",
   "metadata": {},
   "outputs": [
    {
     "data": {
      "text/plain": [
       "[19.0, 2.0, 13.0, -7.0, -9.0, 2.0]"
      ]
     },
     "execution_count": 38,
     "metadata": {},
     "output_type": "execute_result"
    }
   ],
   "source": [
    "matrix_B "
   ]
  },
  {
   "cell_type": "code",
   "execution_count": 39,
   "id": "7a5ebc4b-4005-4807-a720-c06cfa72bec5",
   "metadata": {},
   "outputs": [
    {
     "name": "stdout",
     "output_type": "stream",
     "text": [
      "[[1.0, -1.0, 4.0, 0.0, 2.0, 9.0], [0.0, 5.0, -2.0, 7.0, 8.0, 4.0], [1.0, 0.2, 1.4, 5.6, -0.6000000000000001, -11.8], [6.0, 1.0, -14.285714285714286, 76.0, -28.571428571428573, -218.57142857142858], [-4.0, -0.4, 10.857142857142858, -0.6973684210526315, -7.210526315789473, 16.28947368421055], [0.0, 1.4, 1.2857142857142856, -0.15789473684210523, 1.5172054223149114, -51.65432742440045]]\n"
     ]
    }
   ],
   "source": [
    "LU_matrix = LU_decompose(read_matrix('matrix_2A.txt'))\n",
    "print(LU_matrix)"
   ]
  },
  {
   "cell_type": "code",
   "execution_count": 40,
   "id": "70903d1e-b6d9-438e-95b9-b568594bc2f6",
   "metadata": {},
   "outputs": [
    {
     "data": {
      "text/plain": [
       "[[1.0, -1.0, 4.0, 0.0, 2.0, 9.0],\n",
       " [0.0, 5.0, -2.0, 7.0, 8.0, 4.0],\n",
       " [1.0, 0.0, 5.0, 7.0, 3.0, -2.0],\n",
       " [6.0, -1.0, 2.0, 3.0, 0.0, 8.0],\n",
       " [-4.0, 2.0, 0.0, 5.0, -5.0, 3.0],\n",
       " [0.0, 7.0, -1.0, 5.0, 4.0, -2.0]]"
      ]
     },
     "execution_count": 40,
     "metadata": {},
     "output_type": "execute_result"
    }
   ],
   "source": [
    "matrix_A"
   ]
  },
  {
   "cell_type": "code",
   "execution_count": 41,
   "id": "dab7bc6f-aa14-44ef-9327-fd94977e5a3e",
   "metadata": {},
   "outputs": [],
   "source": [
    "y_matrix = [0 for item in range(len(matrix_A))]"
   ]
  },
  {
   "cell_type": "code",
   "execution_count": 42,
   "id": "44950ac2-0ec3-4707-9bdf-b36b47fbe72b",
   "metadata": {},
   "outputs": [
    {
     "data": {
      "text/plain": [
       "0"
      ]
     },
     "execution_count": 42,
     "metadata": {},
     "output_type": "execute_result"
    }
   ],
   "source": [
    "y_matrix[-len(y_matrix)]"
   ]
  },
  {
   "cell_type": "code",
   "execution_count": 43,
   "id": "dfe4d721-8dcf-4740-99df-b90aef3f187f",
   "metadata": {},
   "outputs": [],
   "source": [
    "for i in range(len(y_matrix)):\n",
    "    y_matrix[i] =( matrix_B[i] - sum([LU_matrix[i][s_]*y_matrix[s_] for s_ in range(0,i)]) ) "
   ]
  },
  {
   "cell_type": "code",
   "execution_count": 44,
   "id": "739566d5-fdf6-407c-ad78-f75d95f89f85",
   "metadata": {},
   "outputs": [
    {
     "data": {
      "text/plain": [
       "[19.0,\n",
       " 2.0,\n",
       " -6.399999999999999,\n",
       " -214.42857142857142,\n",
       " -12.25,\n",
       " -7.842805005213755]"
      ]
     },
     "execution_count": 44,
     "metadata": {},
     "output_type": "execute_result"
    }
   ],
   "source": [
    "y_matrix"
   ]
  },
  {
   "cell_type": "code",
   "execution_count": 45,
   "id": "bfa7f4e5-48a9-414e-aa02-3ccb19a36d46",
   "metadata": {},
   "outputs": [],
   "source": [
    "x_matrix = [0 for item in range(len(matrix_A))]"
   ]
  },
  {
   "cell_type": "code",
   "execution_count": 46,
   "id": "cb3f0bb2-10c3-4086-8b3f-0a58424bbcf2",
   "metadata": {},
   "outputs": [],
   "source": [
    "for i in range(len(y_matrix)):\n",
    "    #x_matrix[i] =( y_matrix[i] - sum([LU_matrix[i][s_]*x_matrix[s_] for s_ in range(0,i)]) ) \n",
    "    x_matrix[-i-1] =( y_matrix[-i-1] - sum([LU_matrix[-i-1][s_]*x_matrix[s_] for s_ in range(-i,0)]) ) / LU_matrix[-i-1][-i-1]"
   ]
  },
  {
   "cell_type": "code",
   "execution_count": 47,
   "id": "8698090e-9ad7-43ba-a5f1-9ac9cb500514",
   "metadata": {},
   "outputs": [
    {
     "data": {
      "text/plain": [
       "[-1.761817043997862,\n",
       " 0.8962280338740133,\n",
       " 4.051931404116158,\n",
       " -1.6171308025395421,\n",
       " 2.041913538501913,\n",
       " 0.15183248715593525]"
      ]
     },
     "execution_count": 47,
     "metadata": {},
     "output_type": "execute_result"
    }
   ],
   "source": [
    "x_matrix"
   ]
  },
  {
   "cell_type": "code",
   "execution_count": 26,
   "id": "adf68b81-c470-44c0-b307-86624367cc66",
   "metadata": {},
   "outputs": [
    {
     "data": {
      "text/plain": [
       "[-1.76181704399786,\n",
       " 0.8962280338740123,\n",
       " 4.051931404116157,\n",
       " -1.6171308025395417,\n",
       " 2.041913538501913,\n",
       " 0.15183248715593547]"
      ]
     },
     "execution_count": 26,
     "metadata": {},
     "output_type": "execute_result"
    }
   ],
   "source": [
    "gauss_jordan(matrix_A,matrix_B)"
   ]
  },
  {
   "cell_type": "code",
   "execution_count": null,
   "id": "0af7414e-92a0-4ca5-a86a-f0311faf2e0b",
   "metadata": {},
   "outputs": [],
   "source": []
  }
 ],
 "metadata": {
  "kernelspec": {
   "display_name": "Python 3 (ipykernel)",
   "language": "python",
   "name": "python3"
  },
  "language_info": {
   "codemirror_mode": {
    "name": "ipython",
    "version": 3
   },
   "file_extension": ".py",
   "mimetype": "text/x-python",
   "name": "python",
   "nbconvert_exporter": "python",
   "pygments_lexer": "ipython3",
   "version": "3.11.11"
  }
 },
 "nbformat": 4,
 "nbformat_minor": 5
}
