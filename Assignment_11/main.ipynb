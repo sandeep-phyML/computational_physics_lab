{
 "cells": [
  {
   "cell_type": "code",
   "execution_count": 13,
   "id": "088a47c3-3ae5-4c46-a60a-f1b3d72dc798",
   "metadata": {},
   "outputs": [],
   "source": [
    "import os\n",
    "import math \n",
    "import sys\n",
    "sys.path.append(\"..\")\n",
    "import numpy as np\n",
    "from utils import *"
   ]
  },
  {
   "cell_type": "code",
   "execution_count": 5,
   "id": "f881af18-60ab-495a-85ef-1fbf31e008cd",
   "metadata": {},
   "outputs": [
    {
     "data": {
      "text/plain": [
       "21.73754324524274"
      ]
     },
     "execution_count": 5,
     "metadata": {},
     "output_type": "execute_result"
    }
   ],
   "source": [
    "(((np.pi/2.0)**5 * 420.257/180)**(1/4) )*10"
   ]
  },
  {
   "cell_type": "markdown",
   "id": "1669b8f3-3e76-4e82-915a-84ef1788d637",
   "metadata": {},
   "source": [
    "## Question -1 "
   ]
  },
  {
   "cell_type": "code",
   "execution_count": 7,
   "id": "a13afab0-9ba6-4714-84df-42067c9a6e2d",
   "metadata": {},
   "outputs": [],
   "source": [
    "a = 0 ; b = 1 ; N_mid = 289 ; N_sim = 20\n",
    "a = 0 ; b = np.pi/2.0  ; N_mid = 610 ; N_sim = 22\n",
    "\n",
    "def f1(x):\n",
    "    return 1.0/x\n",
    "def f2(x):\n",
    "    return x * np.cos(x)"
   ]
  },
  {
   "cell_type": "code",
   "execution_count": 9,
   "id": "3c4f67a0-1b61-4d37-b617-f09f032b95d8",
   "metadata": {},
   "outputs": [],
   "source": [
    "def sim_1_third(f,a,b,N):\n",
    "    h = (b-a)/N\n",
    "    int_sum = 0.0\n",
    "    x = a\n",
    "    for i in range(N+1):\n",
    "        if i == 0 or i == N :\n",
    "            int_sum += f(x)\n",
    "        elif i % 2 == 0 :\n",
    "            int_sum += 2.0 * f(x)\n",
    "        elif i % 2 == 1 :\n",
    "            int_sum += 4.0 * f(x)\n",
    "        x += h \n",
    "    return h/3.0 * int_sum\n"
   ]
  },
  {
   "cell_type": "code",
   "execution_count": 16,
   "id": "5781c547-1732-4582-8c96-6c8a40961b10",
   "metadata": {},
   "outputs": [
    {
     "data": {
      "text/plain": [
       "0.6931468064035278"
      ]
     },
     "execution_count": 16,
     "metadata": {},
     "output_type": "execute_result"
    }
   ],
   "source": [
    "Midpoint(f1,289,1,2)"
   ]
  },
  {
   "cell_type": "code",
   "execution_count": 18,
   "id": "b3ca7fee-c989-491f-8346-a34ea9b35491",
   "metadata": {},
   "outputs": [
    {
     "data": {
      "text/plain": [
       "-3.7359647220291947e-07"
      ]
     },
     "execution_count": 18,
     "metadata": {},
     "output_type": "execute_result"
    }
   ],
   "source": [
    "0.6931468064035278 - 0.69314718"
   ]
  },
  {
   "cell_type": "code",
   "execution_count": 19,
   "id": "b277fde0-390a-40c7-8947-ba4bc7d9350b",
   "metadata": {},
   "outputs": [
    {
     "data": {
      "text/plain": [
       "0.6931473746651159"
      ]
     },
     "execution_count": 19,
     "metadata": {},
     "output_type": "execute_result"
    }
   ],
   "source": [
    "sim_1_third(f1,1,2,20)"
   ]
  },
  {
   "cell_type": "code",
   "execution_count": 20,
   "id": "012b42ac-d6d8-42a2-a435-84814c1d95f7",
   "metadata": {},
   "outputs": [
    {
     "data": {
      "text/plain": [
       "1.9466511591570423e-07"
      ]
     },
     "execution_count": 20,
     "metadata": {},
     "output_type": "execute_result"
    }
   ],
   "source": [
    "0.6931473746651159 - 0.69314718"
   ]
  },
  {
   "cell_type": "code",
   "execution_count": 23,
   "id": "ad2d9818-2333-4830-b7dc-2b98405b8a65",
   "metadata": {},
   "outputs": [
    {
     "data": {
      "text/plain": [
       "0.5707970370864707"
      ]
     },
     "execution_count": 23,
     "metadata": {},
     "output_type": "execute_result"
    }
   ],
   "source": [
    "Midpoint(f2,610,0,np.pi/2.0)"
   ]
  },
  {
   "cell_type": "code",
   "execution_count": 24,
   "id": "b578fdd2-6275-41be-a246-94f5cb555cef",
   "metadata": {},
   "outputs": [
    {
     "data": {
      "text/plain": [
       "7.102915741130644e-07"
      ]
     },
     "execution_count": 24,
     "metadata": {},
     "output_type": "execute_result"
    }
   ],
   "source": [
    "0.5707970370864707 - (np.pi/2.0 - 1)"
   ]
  },
  {
   "cell_type": "code",
   "execution_count": 25,
   "id": "80ac3216-29dc-49b8-bdba-ab0a8d7da4e0",
   "metadata": {},
   "outputs": [
    {
     "data": {
      "text/plain": [
       "0.5707969873166873"
      ]
     },
     "execution_count": 25,
     "metadata": {},
     "output_type": "execute_result"
    }
   ],
   "source": [
    "sim_1_third(f2,0,np.pi/2.0,22)"
   ]
  },
  {
   "cell_type": "code",
   "execution_count": 26,
   "id": "44707cdc-cbaf-4423-b301-2107145c7b9e",
   "metadata": {},
   "outputs": [
    {
     "data": {
      "text/plain": [
       "6.605217907074135e-07"
      ]
     },
     "execution_count": 26,
     "metadata": {},
     "output_type": "execute_result"
    }
   ],
   "source": [
    "0.5707969873166873 - (np.pi/2.0 - 1)"
   ]
  },
  {
   "cell_type": "markdown",
   "id": "85ba1377-5455-415d-b90c-9132de78ed48",
   "metadata": {},
   "source": [
    "## Question-2"
   ]
  },
  {
   "cell_type": "code",
   "execution_count": 27,
   "id": "02459ac0-1af5-49df-8a9a-dba9581dcee9",
   "metadata": {},
   "outputs": [],
   "source": [
    "n_random = LCG(100000)"
   ]
  },
  {
   "cell_type": "code",
   "execution_count": 29,
   "id": "2b223357-11cd-405f-bbb2-f5f7d126b3bf",
   "metadata": {},
   "outputs": [
    {
     "data": {
      "text/plain": [
       "(array([3997., 3991., 4005., 4001., 4013., 4027., 4003., 3995., 4008.,\n",
       "        3983., 3974., 4003., 4015., 4004., 3995., 3990., 4023., 4001.,\n",
       "        3988., 3989., 4000., 3989., 4007., 3997., 4002.]),\n",
       " array([0.  , 0.04, 0.08, 0.12, 0.16, 0.2 , 0.24, 0.28, 0.32, 0.36, 0.4 ,\n",
       "        0.44, 0.48, 0.52, 0.56, 0.6 , 0.64, 0.68, 0.72, 0.76, 0.8 , 0.84,\n",
       "        0.88, 0.92, 0.96, 1.  ]),\n",
       " <BarContainer object of 25 artists>)"
      ]
     },
     "execution_count": 29,
     "metadata": {},
     "output_type": "execute_result"
    },
    {
     "data": {
      "image/png": "[encoded data removed]",
      "text/plain": [
       "<Figure size 640x480 with 1 Axes>"
      ]
     },
     "metadata": {},
     "output_type": "display_data"
    }
   ],
   "source": [
    "import matplotlib.pyplot as plt\n",
    "plt.hist(n_random,bins = 25 , range = (0,1))"
   ]
  },
  {
   "cell_type": "code",
   "execution_count": 30,
   "id": "072253e9-fb3d-47c8-b6a5-7fe10a60ae87",
   "metadata": {},
   "outputs": [],
   "source": [
    "def int_monte_carlo(f,a,b,random_gen,N):\n",
    "    n_random_uni = random_gen(N)\n",
    "    rand_a_b = [a+(b-a)*item for item in n_random_uni]\n",
    "    f_x_list = [f(x) for x in rand_a_b]\n",
    "    int_value = (b-a)/N * sum(f_x_list)\n",
    "    sigma = np.sqrt(1.0/N * sum([item**2 for item in f_x_list]) - (1/N * sum(f_x_list))**2.0)\n",
    "    return int_value , sigma"
   ]
  },
  {
   "cell_type": "code",
   "execution_count": 31,
   "id": "0714e8ac-d426-4baa-af3c-22e8e355e4fc",
   "metadata": {},
   "outputs": [],
   "source": [
    "def f3(x):\n",
    "    return np.sin(x)**2"
   ]
  },
  {
   "cell_type": "code",
   "execution_count": 38,
   "id": "e19f7847-87bd-4c50-b61e-8e1f6df4da9f",
   "metadata": {
    "scrolled": true
   },
   "outputs": [],
   "source": [
    "n_sample = []\n",
    "FN_values = []\n",
    "sigma_value = []\n",
    "for item in range(10,35000,100):\n",
    "    n_sample.append(item)\n",
    "    int_value , sigma = int_monte_carlo(f3,-1,1,LCG,item)\n",
    "    FN_values.append(int_value)\n",
    "    sigma_value.append(sigma)\n",
    "    "
   ]
  },
  {
   "cell_type": "code",
   "execution_count": 39,
   "id": "e9cc2925-f0b7-407d-9108-3da8339023f4",
   "metadata": {},
   "outputs": [
    {
     "data": {
      "text/plain": [
       "350"
      ]
     },
     "execution_count": 39,
     "metadata": {},
     "output_type": "execute_result"
    }
   ],
   "source": [
    "len(n_sample)"
   ]
  },
  {
   "cell_type": "code",
   "execution_count": 40,
   "id": "7a13064d-6d51-471c-b0c9-66c6ff49355f",
   "metadata": {},
   "outputs": [
    {
     "data": {
      "text/plain": [
       "[<matplotlib.lines.Line2D at 0x13031cf50>]"
      ]
     },
     "execution_count": 40,
     "metadata": {},
     "output_type": "execute_result"
    },
    {
     "data": {
      "image/png": "[encoded data removed]",
      "text/plain": [
       "<Figure size 640x480 with 1 Axes>"
      ]
     },
     "metadata": {},
     "output_type": "display_data"
    }
   ],
   "source": [
    "plt.plot(n_sample,FN_values)"
   ]
  },
  {
   "cell_type": "code",
   "execution_count": 41,
   "id": "6d0e09e9-4c57-4771-a731-0b7da8708f99",
   "metadata": {},
   "outputs": [
    {
     "data": {
      "text/plain": [
       "[<matplotlib.lines.Line2D at 0x15a0365a0>]"
      ]
     },
     "execution_count": 41,
     "metadata": {},
     "output_type": "execute_result"
    },
    {
     "data": {
      "image/png": "[encoded data removed]",
      "text/plain": [
       "<Figure size 640x480 with 1 Axes>"
      ]
     },
     "metadata": {},
     "output_type": "display_data"
    }
   ],
   "source": [
    "plt.plot(n_sample,sigma_value)"
   ]
  },
  {
   "cell_type": "code",
   "execution_count": 42,
   "id": "745e0a0e-4622-430d-aee9-941dd32494b3",
   "metadata": {},
   "outputs": [
    {
     "data": {
      "text/plain": [
       "0.5455901562971492"
      ]
     },
     "execution_count": 42,
     "metadata": {},
     "output_type": "execute_result"
    }
   ],
   "source": [
    "FN_values[-1]"
   ]
  },
  {
   "cell_type": "code",
   "execution_count": null,
   "id": "318440af-787a-4ffc-871e-c04c22c382be",
   "metadata": {},
   "outputs": [],
   "source": []
  }
 ],
 "metadata": {
  "kernelspec": {
   "display_name": "Python 3 (ipykernel)",
   "language": "python",
   "name": "python3"
  },
  "language_info": {
   "codemirror_mode": {
    "name": "ipython",
    "version": 3
   },
   "file_extension": ".py",
   "mimetype": "text/x-python",
   "name": "python",
   "nbconvert_exporter": "python",
   "pygments_lexer": "ipython3",
   "version": "3.12.0"
  }
 },
 "nbformat": 4,
 "nbformat_minor": 5
}
