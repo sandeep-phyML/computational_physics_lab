{
 "cells": [
  {
   "cell_type": "code",
   "execution_count": 20,
   "id": "80251d61-d81d-4b3f-ac2a-b0ad4de60e41",
   "metadata": {},
   "outputs": [],
   "source": [
    "import os\n",
    "import sys\n",
    "sys.path.append(\"..\")\n",
    "from utils import *\n",
    "import numpy as np"
   ]
  },
  {
   "cell_type": "markdown",
   "id": "e76a95c2-5d72-4aad-948c-fd77393c95fe",
   "metadata": {},
   "source": [
    "## Question-1 "
   ]
  },
  {
   "cell_type": "code",
   "execution_count": 26,
   "id": "116e667d-da79-421c-a01f-6d6454601dd7",
   "metadata": {},
   "outputs": [],
   "source": [
    "A = [[4,-1,0,-1,0,0],[-1,4,-1,0,-1,0],[0,-1,4,0,0,-1],[-1,0,0,4,-1,0],[0,-1,0,-1,4,-1],[0,0,-1,0,-1,4]]\n",
    "B = [2,1,2,2,1,2]"
   ]
  },
  {
   "cell_type": "code",
   "execution_count": 3,
   "id": "5c51ddc4-09e8-4a25-b86d-7eb1f8c4f104",
   "metadata": {},
   "outputs": [
    {
     "name": "stdout",
     "output_type": "stream",
     "text": [
      "[1.0, 0.9999999999999999, 1.0, 1.0, 1.0, 1.0]\n"
     ]
    }
   ],
   "source": [
    "\n",
    "L = Chol_decomp(A)\n",
    "#print(L)\n",
    "y = forward_substitution(L,B)\n",
    "#print(\"y -- \" ,y)\n",
    "x = backward_substituion(L,y)\n",
    "print(x)"
   ]
  },
  {
   "cell_type": "code",
   "execution_count": 29,
   "id": "09d48838-9089-4675-b31e-e04b002fa117",
   "metadata": {
    "scrolled": true
   },
   "outputs": [
    {
     "data": {
      "text/plain": [
       "array([1., 1., 1., 1., 1., 1.])"
      ]
     },
     "execution_count": 29,
     "metadata": {},
     "output_type": "execute_result"
    }
   ],
   "source": [
    "np.linalg.solve(A,B)"
   ]
  },
  {
   "cell_type": "markdown",
   "id": "6ac1c479-c328-42a6-8603-8cc522f1ed3e",
   "metadata": {},
   "source": [
    " "
   ]
  },
  {
   "cell_type": "code",
   "execution_count": 32,
   "id": "c4f4786b-b09e-4577-b556-86d23af2e5a4",
   "metadata": {},
   "outputs": [],
   "source": [
    "def Gauss_Seidel(A,B,epsilon = 1e-6):\n",
    "    x = [0 for _ in B]\n",
    "    while True :\n",
    "        distance  = 0.0\n",
    "        for i in range(len(x)):\n",
    "            new_element = (B[i]-sum([x[sum_]*A[i][sum_] for sum_ in range(0,i)]) - sum([x[sum_]*A[i][sum_] for sum_ in range(i+1,len(x))]) )/A[i][i]\n",
    "            distance += (x[i]-new_element)**2\n",
    "            x[i] = new_element\n",
    "        # print(distance)\n",
    "        if np.sqrt(distance) < epsilon :\n",
    "            return x\n"
   ]
  },
  {
   "cell_type": "code",
   "execution_count": 33,
   "id": "c5ff7314-d2ff-4a7d-b0f6-0f5858cc5ccd",
   "metadata": {},
   "outputs": [
    {
     "data": {
      "text/plain": [
       "[0.9999997530614102,\n",
       " 0.9999997892247294,\n",
       " 0.9999999100460266,\n",
       " 0.9999998509593769,\n",
       " 0.9999998727858708,\n",
       " 0.9999999457079743]"
      ]
     },
     "execution_count": 33,
     "metadata": {},
     "output_type": "execute_result"
    }
   ],
   "source": [
    "Gauss_Seidel(A,B)"
   ]
  },
  {
   "cell_type": "markdown",
   "id": "aad07470-bd26-4287-8d2f-ea3857af5124",
   "metadata": {},
   "source": [
    "## Second Question\n"
   ]
  },
  {
   "cell_type": "code",
   "execution_count": 10,
   "id": "cd561983-3247-442e-aac6-f202106270d6",
   "metadata": {},
   "outputs": [],
   "source": [
    "matrix_A = read_matrix(\"matrix_2A.txt\")\n",
    "matrix_B = read_matrix(\"matrix_2B.txt\")"
   ]
  },
  {
   "cell_type": "code",
   "execution_count": 11,
   "id": "3f775418-bddd-474b-9a36-bdcb50e9f9e9",
   "metadata": {},
   "outputs": [
    {
     "name": "stdout",
     "output_type": "stream",
     "text": [
      "[[4.0, 0.0, 4.0, 10.0, 1.0], [0.0, 4.0, 2.0, 0.0, 1.0], [2.0, 5.0, 1.0, 3.0, 13.0], [11.0, 3.0, 0.0, 1.0, 2.0], [3.0, 2.0, 7.0, 1.0, 0.0]]\n"
     ]
    }
   ],
   "source": [
    "print(matrix_A)"
   ]
  },
  {
   "cell_type": "code",
   "execution_count": 12,
   "id": "f4c51a49-a352-4ab6-8cc6-aeb80c18f5f6",
   "metadata": {},
   "outputs": [
    {
     "name": "stdout",
     "output_type": "stream",
     "text": [
      "[20.0, 15.0, 92.0, 51.0, 15.0]\n"
     ]
    }
   ],
   "source": [
    "print(matrix_B)"
   ]
  },
  {
   "cell_type": "code",
   "execution_count": 25,
   "id": "519f03c1-ad01-492f-a735-182f7adf7247",
   "metadata": {},
   "outputs": [],
   "source": [
    "def diagonally_dominant_matrix(A,B):\n",
    "    print(\"return , updated A, B and index column\")\n",
    "    aumented_matrix = [A[i] + [B[i]] +  [ i] for i in range(len(A))] \n",
    "    for index, row in enumerate(aumented_matrix):\n",
    "        swap_lower_index = index\n",
    "        for i in range(index+1,len(aumented_matrix)):\n",
    "            if A[i][index] > A[swap_lower_index][index]:\n",
    "                swap_lower_index = i\n",
    "        aumented_matrix[index] = aumented_matrix[swap_lower_index]\n",
    "        aumented_matrix[swap_lower_index] = row\n",
    "    return [row[:-2] for row in aumented_matrix] , [row[-2] for row in aumented_matrix] , [row[-1] for row in aumented_matrix]\n",
    "                "
   ]
  },
  {
   "cell_type": "code",
   "execution_count": 26,
   "id": "a3d3a138-d8b9-499e-8d69-99d217872267",
   "metadata": {},
   "outputs": [
    {
     "name": "stdout",
     "output_type": "stream",
     "text": [
      "return , updated A, B and index column\n"
     ]
    }
   ],
   "source": [
    "corr_matrix_A , corr_matrix_B ,corr_matrix_index =  diagonally_dominant_matrix(matrix_A,matrix_B)"
   ]
  },
  {
   "cell_type": "code",
   "execution_count": null,
   "id": "b971a9ae-3a2a-40fe-886c-e16d803ca297",
   "metadata": {},
   "outputs": [],
   "source": []
  },
  {
   "cell_type": "code",
   "execution_count": 16,
   "id": "0bc5d5e7-439b-481b-ad16-c6d180c4bdd5",
   "metadata": {},
   "outputs": [],
   "source": [
    "A = [[4,-1,0,-1,0,0],[-1,4,-1,0,-1,0],[0,-1,4,0,0,-1],[-1,0,0,4,-1,0],[0,-1,0,-1,4,-1],[0,0,-1,0,-1,4]]\n",
    "B = [2,1,2,2,1,2]\n",
    "corr_matrix_A = [[11.0, 3.0, 0.0, 1.0, 2.0],\n",
    "                 [0.0, 4.0, 2.0, 0.0, 1.0],\n",
    "                 [3.0, 2.0, 7.0, 1.0, 0.0],\n",
    "                 [4.0, 0.0, 4.0, 10.0, 1.0],\n",
    "                 [2.0, 5.0, 1.0, 3.0, 13.0]]\n",
    "corr_matrix_B = [51.0 , 15.0 , 15.0 , 20.0 , 92.0]"
   ]
  },
  {
   "cell_type": "code",
   "execution_count": 17,
   "id": "fc32723e-5f37-4161-8e74-e9255cf13ec6",
   "metadata": {},
   "outputs": [],
   "source": [
    "x = [0.0 for i in range(len(corr_matrix_B))]"
   ]
  },
  {
   "cell_type": "code",
   "execution_count": 40,
   "id": "65605fac-9a52-4978-bbc7-6a15d61c679d",
   "metadata": {},
   "outputs": [
    {
     "data": {
      "text/plain": [
       "[3, 2, 4, 0, 1]"
      ]
     },
     "execution_count": 40,
     "metadata": {},
     "output_type": "execute_result"
    }
   ],
   "source": [
    "corr_matrix_index"
   ]
  },
  {
   "cell_type": "code",
   "execution_count": 18,
   "id": "dc67f33f-84bd-47cf-b681-03573778fdd1",
   "metadata": {},
   "outputs": [
    {
     "data": {
      "text/plain": [
       "[2.979165086347139,\n",
       " 2.215599676186742,\n",
       " 0.21128402698819157,\n",
       " 0.15231700827754802,\n",
       " 5.715033568811629]"
      ]
     },
     "execution_count": 18,
     "metadata": {},
     "output_type": "execute_result"
    }
   ],
   "source": [
    "Gauss_Seidel(corr_matrix_A,corr_matrix_B)"
   ]
  },
  {
   "cell_type": "code",
   "execution_count": null,
   "id": "b64929d5-8250-47d4-b702-f71264874967",
   "metadata": {},
   "outputs": [],
   "source": []
  },
  {
   "cell_type": "code",
   "execution_count": null,
   "id": "dbef36e7-9f70-4bdd-8fcd-61d61da710c3",
   "metadata": {},
   "outputs": [],
   "source": []
  },
  {
   "cell_type": "code",
   "execution_count": 19,
   "id": "a820da81-7d2e-405f-820b-27aa0d15cadf",
   "metadata": {
    "scrolled": true
   },
   "outputs": [
    {
     "data": {
      "text/plain": [
       "array([2.97916519, 2.21559958, 0.21128405, 0.15231694, 5.7150336 ])"
      ]
     },
     "execution_count": 19,
     "metadata": {},
     "output_type": "execute_result"
    }
   ],
   "source": [
    "np.linalg.solve(corr_matrix_A,corr_matrix_B)"
   ]
  },
  {
   "cell_type": "code",
   "execution_count": 23,
   "id": "40d756c0-5f3b-41ad-8074-663d6900a214",
   "metadata": {},
   "outputs": [
    {
     "name": "stdout",
     "output_type": "stream",
     "text": [
      "69.0\n"
     ]
    },
    {
     "data": {
      "text/plain": [
       "[2.9791653292985467,\n",
       " 2.215599760270005,\n",
       " 0.21128422912322592,\n",
       " 0.15231713726510598,\n",
       " 5.71503380246907]"
      ]
     },
     "execution_count": 23,
     "metadata": {},
     "output_type": "execute_result"
    }
   ],
   "source": [
    "Jacobi_iterative(corr_matrix_A,corr_matrix_B,corr_matrix_B,1e-6)"
   ]
  },
  {
   "cell_type": "code",
   "execution_count": 22,
   "id": "69f15a4c-4503-45b7-a066-5b3f387b2806",
   "metadata": {},
   "outputs": [],
   "source": [
    "def Jacobi_iterative(A,b,intial_guess,epsilon):\n",
    "    n = len(A)\n",
    "    iter_ = 0.0\n",
    "    while True:\n",
    "        new_x = [(1.0/A[i][i])*(b[i] - sum([A[i][j]*intial_guess[j] if i!=j else 0 for j in range(n)])) for i in range(n)]\n",
    "        distance = np.sqrt(sum([(new_x[i]-intial_guess[i])**2 for i in range(n)]))\n",
    "        if distance < epsilon:\n",
    "            print(iter_)\n",
    "            return new_x\n",
    "        else :\n",
    "            intial_guess = new_x\n",
    "            iter_ += 1.0\n",
    "        "
   ]
  },
  {
   "cell_type": "code",
   "execution_count": null,
   "id": "0406e1b2-4f79-4510-a902-4c984e3ca6bd",
   "metadata": {},
   "outputs": [],
   "source": []
  }
 ],
 "metadata": {
  "kernelspec": {
   "display_name": "Python 3 (ipykernel)",
   "language": "python",
   "name": "python3"
  },
  "language_info": {
   "codemirror_mode": {
    "name": "ipython",
    "version": 3
   },
   "file_extension": ".py",
   "mimetype": "text/x-python",
   "name": "python",
   "nbconvert_exporter": "python",
   "pygments_lexer": "ipython3",
   "version": "3.11.11"
  }
 },
 "nbformat": 4,
 "nbformat_minor": 5
}
