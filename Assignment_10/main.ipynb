{
 "cells": [
  {
   "cell_type": "code",
   "execution_count": 1,
   "id": "9e5df9fc-84bd-412d-8406-207106fe8ec0",
   "metadata": {},
   "outputs": [],
   "source": [
    "import matplotlib.pyplot as plt\n",
    "import numpy as np"
   ]
  },
  {
   "cell_type": "code",
   "execution_count": 19,
   "id": "06f4c078-c567-4e19-a82a-c23da356d4cb",
   "metadata": {},
   "outputs": [],
   "source": [
    "def Midpoint(f,N,a,b,I_true = None):\n",
    "    h = (b-a)/N\n",
    "    x_array = []\n",
    "    fact = 1\n",
    "    for i in range(N):\n",
    "        x_element = a + fact* h/2\n",
    "        x_array.append(x_element)\n",
    "        fact += 2.0\n",
    "    I = sum([h*f(item) for item in x_array])\n",
    "    if I_true:\n",
    "        print(f\"midpoint result for N = {N}:computed value: { I },error : {abs(I_true-I)/I_true * 100}\")\n",
    "        return I , abs(I_true-I)/I_true * 100\n",
    "    else :\n",
    "        return I "
   ]
  },
  {
   "cell_type": "code",
   "execution_count": 20,
   "id": "c360010f-5bec-434a-b6ee-48b758d1b3cc",
   "metadata": {},
   "outputs": [],
   "source": [
    "def Trapezoidal(f,N,a,b,I_true = None):\n",
    "    h = (b-a)/N\n",
    "    I = sum([(h/2.0)*(f(a+i*h)+f(a+(i+1)*h)) for i in range(N)])\n",
    "    if I_true:\n",
    "        print(f\"Trapezoidal result for N = {N}:computed value: { I },error : {abs(I_true-I)/I_true * 100}\")\n",
    "        return I , abs(I_true-I)/I_true * 100\n",
    "    else :\n",
    "        return I "
   ]
  },
  {
   "cell_type": "code",
   "execution_count": 21,
   "id": "9be548d6-da41-44e9-a09b-4de57621b167",
   "metadata": {},
   "outputs": [],
   "source": [
    "def f1(x):\n",
    "    return 1.0/x\n",
    "def f2(x):\n",
    "    return x* np.cos(x)\n",
    "def f3(x):\n",
    "    return x * np.arctan(x)"
   ]
  },
  {
   "cell_type": "code",
   "execution_count": 22,
   "id": "f4f4d65f-fb74-42fa-86ca-e3942d775524",
   "metadata": {
    "scrolled": true
   },
   "outputs": [
    {
     "name": "stdout",
     "output_type": "stream",
     "text": [
      "midpoint result for N = 4:computed value: 0.6912198912198912,error : 0.2780489967669964\n",
      "Trapezoidal result for N = 4:computed value: 0.6970238095238095,error : 0.5592794193881762\n",
      "midpoint result for N = 4:computed value: 0.5874479167573121,error : 2.9172559774371063\n",
      "Trapezoidal result for N = 4:computed value: 0.18686722637563188,error : 67.26201315538972\n",
      "midpoint result for N = 4:computed value: 0.28204604935711447,error : 1.1745394575877568\n",
      "Trapezoidal result for N = 4:computed value: 0.2920983458939516,error : 2.347661392330895\n",
      "midpoint result for N = 8:computed value: 0.6926605540432034,error : 0.07020528552054481\n",
      "Trapezoidal result for N = 8:computed value: 0.6941218503718504,error : 0.14061521131058988\n",
      "midpoint result for N = 8:computed value: 0.5749342733821311,error : 0.7249427498017913\n",
      "Trapezoidal result for N = 8:computed value: 0.18848433769175182,error : 66.97870521520024\n",
      "midpoint result for N = 8:computed value: 0.2845610193056679,error : 0.29332497512065553\n",
      "Trapezoidal result for N = 8:computed value: 0.28707219762553304,error : 0.5865609673715692\n",
      "midpoint result for N = 15:computed value: 0.6930084263712957,error : 0.020017917219875628\n",
      "Trapezoidal result for N = 15:computed value: 0.6934248043580645,error : 0.04005272849332725\n",
      "midpoint result for N = 15:computed value: 0.5719716590967574,error : 0.20591097852021978\n",
      "Trapezoidal result for N = 15:computed value: 0.18886982356599694,error : 66.91117046486124\n",
      "midpoint result for N = 15:computed value: 0.28516010270349235,error : 0.0834135339632186\n",
      "Trapezoidal result for N = 15:computed value: 0.2858742642174127,error : 0.1668198611710708\n",
      "midpoint result for N = 20:computed value: 0.693069098225587,error : 0.01126481888203459\n",
      "Trapezoidal result for N = 20:computed value: 0.6933033817926941,error : 0.02253515518798692\n",
      "midpoint result for N = 20:computed value: 0.5714572867152204,error : 0.1157961061234003\n",
      "Trapezoidal result for N = 20:computed value: 0.18893685574238112,error : 66.89942684051793\n",
      "midpoint result for N = 20:computed value: 0.28526426016144524,error : 0.04691804404381056\n",
      "Trapezoidal result for N = 20:computed value: 0.285665963360493,error : 0.09383380742775548\n"
     ]
    },
    {
     "name": "stderr",
     "output_type": "stream",
     "text": [
      "/var/folders/27/sdz364ds48x7_4lv17mz1sxm0000gn/T/ipykernel_4472/2007791607.py:5: DeprecationWarning: `np.math` is a deprecated alias for the standard library `math` module (Deprecated Numpy 1.25). Replace usages of `np.math` with `math`\n",
      "  Midpoint(f2,item,0,np.math.pi/2.0,I_true=np.math.pi/2.0-1.0)\n",
      "/var/folders/27/sdz364ds48x7_4lv17mz1sxm0000gn/T/ipykernel_4472/2007791607.py:6: DeprecationWarning: `np.math` is a deprecated alias for the standard library `math` module (Deprecated Numpy 1.25). Replace usages of `np.math` with `math`\n",
      "  Trapezoidal(f2,item,1,np.math.pi/2.0,I_true=np.math.pi/2.0-1.0)\n",
      "/var/folders/27/sdz364ds48x7_4lv17mz1sxm0000gn/T/ipykernel_4472/2007791607.py:7: DeprecationWarning: `np.math` is a deprecated alias for the standard library `math` module (Deprecated Numpy 1.25). Replace usages of `np.math` with `math`\n",
      "  Midpoint(f3,item,0,1,I_true=np.math.pi/4.0-0.5)\n",
      "/var/folders/27/sdz364ds48x7_4lv17mz1sxm0000gn/T/ipykernel_4472/2007791607.py:8: DeprecationWarning: `np.math` is a deprecated alias for the standard library `math` module (Deprecated Numpy 1.25). Replace usages of `np.math` with `math`\n",
      "  Trapezoidal(f3,item,0,1,I_true=np.math.pi/4.0-0.5)\n"
     ]
    }
   ],
   "source": [
    "N_values = [4,8,15,20]\n",
    "for item in N_values:\n",
    "    Midpoint(f1,item,1,2,I_true=0.69314718)\n",
    "    Trapezoidal(f1,item,1,2,I_true=0.69314718)\n",
    "    Midpoint(f2,item,0,np.math.pi/2.0,I_true=np.math.pi/2.0-1.0)\n",
    "    Trapezoidal(f2,item,1,np.math.pi/2.0,I_true=np.math.pi/2.0-1.0)\n",
    "    Midpoint(f3,item,0,1,I_true=np.math.pi/4.0-0.5)\n",
    "    Trapezoidal(f3,item,0,1,I_true=np.math.pi/4.0-0.5)\n",
    "    "
   ]
  },
  {
   "cell_type": "code",
   "execution_count": null,
   "id": "32646a7a-98c5-45a6-8563-d5dc95b292d6",
   "metadata": {},
   "outputs": [],
   "source": []
  }
 ],
 "metadata": {
  "kernelspec": {
   "display_name": "Python 3 (ipykernel)",
   "language": "python",
   "name": "python3"
  },
  "language_info": {
   "codemirror_mode": {
    "name": "ipython",
    "version": 3
   },
   "file_extension": ".py",
   "mimetype": "text/x-python",
   "name": "python",
   "nbconvert_exporter": "python",
   "pygments_lexer": "ipython3",
   "version": "3.12.0"
  }
 },
 "nbformat": 4,
 "nbformat_minor": 5
}
